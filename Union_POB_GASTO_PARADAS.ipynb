{
 "cells": [
  {
   "cell_type": "code",
   "execution_count": 1,
   "metadata": {},
   "outputs": [
    {
     "name": "stdout",
     "output_type": "stream",
     "text": [
      "Columnas del primer SHP: Index(['CODE', 'P_T_TG', 'P_PRM_TG', 'PP_EURO_TG', 'CSP01_EURO', 'CSP02_EURO',\n",
      "       'CSP03_EURO', 'CSP04_EURO', 'CSP05_EURO', 'CSP06_EURO', 'CSP07_EURO',\n",
      "       'CSP08_EURO', 'CSP09_EURO', 'CSP10_EURO', 'CSP11_EURO', 'CSP12_EURO',\n",
      "       'CSP13_EURO', 'CSP14_EURO', 'CSP15_EURO', 'CSP16_EURO', 'CSP17_EURO',\n",
      "       'CSP18_EURO', 'CSP19_EURO', 'CSP20_EURO', 'CTRYCODE', 'MICROCODE',\n",
      "       'NAME'],\n",
      "      dtype='object')\n",
      "Columnas del segundo SHP: Index(['CODE', 'NOM_ENT', 'NOM_MUN', 'POBTOT', 'POBFEM', 'POBMAS', 'P_0A2',\n",
      "       'P_0A2_F', 'P_0A2_M', 'P_3YMAS',\n",
      "       ...\n",
      "       'VPH_SPMVPI', 'VPH_CVJ', 'VPH_SINRTV', 'VPH_SINLTC', 'VPH_SINCIN',\n",
      "       'VPH_SINTIC', 'CTRYCODE', 'MICROCODE', 'NAME', 'geometry'],\n",
      "      dtype='object', length=229)\n",
      "Total de filas después del merge: 5654\n"
     ]
    },
    {
     "data": {
      "text/plain": [
       "'\\n# Exportar el shapefile combinado\\noutput_shp_path = \"Manzanas_PUBLICOS_TIPOLOGIA.shp\"\\nmerged_df = gpd.GeoDataFrame(merged_df, geometry=shp2.geometry, crs=shp2.crs)  # Asegurar que la geometría y CRS sean los de shp2\\nmerged_df.to_file(output_shp_path, driver=\"ESRI Shapefile\")\\n\\nprint(f\"Shapefile exportado correctamente: {output_shp_path}\")\\n'"
      ]
     },
     "execution_count": 1,
     "metadata": {},
     "output_type": "execute_result"
    }
   ],
   "source": [
    "import geopandas as gpd\n",
    "import pandas as pd\n",
    "\n",
    "# Cargar los dos shapefiles\n",
    "shp1 = gpd.read_file(\"Tipologia_de_gasto_enmanzana_SAMPLE.shp\")  # Reemplaza con la ruta correcta\n",
    "shp2 = gpd.read_file(\"Reproyectada_datospublicos_SAMPLE_CDM.shp\")  # Reemplaza con la ruta correcta\n",
    "shp1 = shp1.drop(columns=\"geometry\")\n",
    "# Ver las columnas disponibles\n",
    "print(\"Columnas del primer SHP:\", shp1.columns)\n",
    "print(\"Columnas del segundo SHP:\", shp2.columns)\n",
    "\n",
    "# Asegurar que la columna de unión sea de tipo string\n",
    "shp1[\"CODE\"] = shp1[\"CODE\"].astype(str)\n",
    "shp2[\"CODE\"] = shp2[\"CODE\"].astype(str)\n",
    "\n",
    "# Realizar el merge de los dos DataFrames usando las columnas 'CODE' y 'CVEGEO'\n",
    "merged_df = pd.merge(shp1, shp2, left_on='CODE', right_on='CODE', how='inner')\n",
    "merged_df.head()\n",
    "\n",
    "# Verificar el resultado\n",
    "\n",
    "print(f\"Total de filas después del merge: {len(merged_df)}\")\n",
    "'''\n",
    "# Exportar el shapefile combinado\n",
    "output_shp_path = \"Manzanas_PUBLICOS_TIPOLOGIA.shp\"\n",
    "merged_df = gpd.GeoDataFrame(merged_df, geometry=shp2.geometry, crs=shp2.crs)  # Asegurar que la geometría y CRS sean los de shp2\n",
    "merged_df.to_file(output_shp_path, driver=\"ESRI Shapefile\")\n",
    "\n",
    "print(f\"Shapefile exportado correctamente: {output_shp_path}\")\n",
    "'''\n",
    "\n",
    "\n"
   ]
  },
  {
   "cell_type": "markdown",
   "metadata": {},
   "source": [
    "AQUI HAGO LO DE EL SHP DE LAS PARADAS"
   ]
  },
  {
   "cell_type": "code",
   "execution_count": 2,
   "metadata": {},
   "outputs": [
    {
     "data": {
      "text/plain": [
       "['CVEGEO',\n",
       " 'POB1',\n",
       " 'OID_1',\n",
       " 'Metro',\n",
       " 'Suburbano',\n",
       " 'Metrobus',\n",
       " 'Tren_Liger',\n",
       " 'Trolebus',\n",
       " 'RTP',\n",
       " 'Trole_elev',\n",
       " 'T_Concesio',\n",
       " 'Ecobici',\n",
       " 'Cablebus',\n",
       " 'Cobertura',\n",
       " 'geometry']"
      ]
     },
     "execution_count": 2,
     "metadata": {},
     "output_type": "execute_result"
    }
   ],
   "source": [
    "import geopandas as gpd\n",
    "\n",
    "# Cargar el nuevo shapefile con la información de transporte\n",
    "shp_transport = gpd.read_file(\"manzanas_zmvm.shp\")\n",
    "shp_transport.columns.to_list()\n"
   ]
  },
  {
   "cell_type": "code",
   "execution_count": 3,
   "metadata": {},
   "outputs": [
    {
     "data": {
      "text/plain": [
       "['CVEGEO_PRD',\n",
       " 'Metro_PRD',\n",
       " 'Suburbano_PRD',\n",
       " 'Metrobus_PRD',\n",
       " 'Tren_Liger_PRD',\n",
       " 'Trolebus_PRD',\n",
       " 'RTP_PRD',\n",
       " 'Trole_elev_PRD',\n",
       " 'T_Concesio_PRD',\n",
       " 'Ecobici_PRD',\n",
       " 'Cablebus_PRD',\n",
       " 'Cobertura_PRD',\n",
       " 'geometry']"
      ]
     },
     "execution_count": 3,
     "metadata": {},
     "output_type": "execute_result"
    }
   ],
   "source": [
    "shp_transport = shp_transport.drop(columns=['POB1', 'OID_1'])\n",
    "shp_transport = shp_transport.rename(columns={col: f\"{col}_PRD\" for col in shp_transport.columns if col != \"geometry\"})\n",
    "shp_transport.columns.to_list()\n",
    "# Eliminar dos columnas específicas\n",
    "\n",
    "\n"
   ]
  },
  {
   "cell_type": "code",
   "execution_count": 4,
   "metadata": {},
   "outputs": [
    {
     "name": "stdout",
     "output_type": "stream",
     "text": [
      "               CODE P_T_TG            P_PRM_TG        PP_EURO_TG  \\\n",
      "0  0901000010012009   1752  0.0136463416740028  12456.9305839877   \n",
      "1  0901000010012008   1752  0.0136463416740028  12456.9305839877   \n",
      "2  0901000010012023   1752  0.0136463416740028  12456.9305839877   \n",
      "3  0901000010012022   1752  0.0136463416740028  12456.9305839877   \n",
      "4  0901000010012007   1752  0.0136463416740028  12456.9305839877   \n",
      "\n",
      "        CSP01_EURO        CSP02_EURO        CSP03_EURO       CSP04_EURO  \\\n",
      "0  2430.7403420371  195.081620943418  77.0732798203462  221.24660867159   \n",
      "1  2430.7403420371  195.081620943418  77.0732798203462  221.24660867159   \n",
      "2  2430.7403420371  195.081620943418  77.0732798203462  221.24660867159   \n",
      "3  2430.7403420371  195.081620943418  77.0732798203462  221.24660867159   \n",
      "4  2430.7403420371  195.081620943418  77.0732798203462  221.24660867159   \n",
      "\n",
      "         CSP05_EURO        CSP06_EURO  ... Metrobus_PRD Tren_Liger_PRD  \\\n",
      "0  84.4238746175422  93.5830736436989  ...            0              0   \n",
      "1  84.4238746175422  93.5830736436989  ...            0              0   \n",
      "2  84.4238746175422  93.5830736436989  ...            0              0   \n",
      "3  84.4238746175422  93.5830736436989  ...            0              0   \n",
      "4  84.4238746175422  93.5830736436989  ...            0              0   \n",
      "\n",
      "  Trolebus_PRD RTP_PRD Trole_elev_PRD T_Concesio_PRD Ecobici_PRD Cablebus_PRD  \\\n",
      "0            0       1            0.0              1           0            0   \n",
      "1            0       1            0.0              1           0            0   \n",
      "2            0       1            0.0              1           0            0   \n",
      "3            0       1            0.0              1           0            0   \n",
      "4            0       1            0.0              1           0            0   \n",
      "\n",
      "  Cobertura_PRD                                         geometry_y  \n",
      "0             3  POLYGON ((479032.304 2145315.414, 478982.809 2...  \n",
      "1             3  POLYGON ((478974.001 2145275.33, 478927.053 21...  \n",
      "2             3  POLYGON ((479253.145 2145267.224, 479297.151 2...  \n",
      "3             3  POLYGON ((478749.957 2145243.651, 478800.312 2...  \n",
      "4             3  POLYGON ((478861.519 2145265.782, 478895.922 2...  \n",
      "\n",
      "[5 rows x 267 columns]\n"
     ]
    }
   ],
   "source": [
    "# Realizar el merge con `merged_df` en base a `CODE` y `CVEGEO`\n",
    "merged_df2 = merged_df.merge(\n",
    "    shp_transport, \n",
    "    left_on=\"CODE\", \n",
    "    right_on=\"CVEGEO_PRD\", \n",
    "    how=\"inner\"\n",
    ")\n",
    "\n",
    "# Eliminar la columna CVEGEO ya que ahora todo está en CODE\n",
    "merged_df2 = merged_df2.drop(columns=[\"CVEGEO_PRD\"])\n",
    "\n",
    "# Verificar resultado\n",
    "print(merged_df2.head())\n"
   ]
  },
  {
   "cell_type": "code",
   "execution_count": 38,
   "metadata": {},
   "outputs": [],
   "source": [
    "merged_df2 = gpd.GeoDataFrame(merged_df2, geometry=shp2.geometry, crs=shp2.crs)\n"
   ]
  },
  {
   "cell_type": "code",
   "execution_count": 41,
   "metadata": {},
   "outputs": [],
   "source": [
    "merged_df2.columns.to_list()\n",
    "merged_df2 = merged_df2.drop(columns=['geometry_y', 'geometry_x'])"
   ]
  },
  {
   "cell_type": "code",
   "execution_count": null,
   "metadata": {},
   "outputs": [
    {
     "name": "stderr",
     "output_type": "stream",
     "text": [
      "C:\\Users\\santi\\AppData\\Local\\Temp\\ipykernel_21620\\3389648446.py:2: UserWarning: Column names longer than 10 characters will be truncated when saved to ESRI Shapefile.\n",
      "  merged_df2.to_file(output_shp_path, driver=\"ESRI Shapefile\")\n",
      "c:\\Users\\santi\\AppData\\Local\\Programs\\Python\\Python312\\Lib\\site-packages\\pyogrio\\raw.py:723: RuntimeWarning: Normalized/laundered field name: 'MICROCODE_x' to 'MICROCODE_'\n",
      "  ogr_write(\n",
      "c:\\Users\\santi\\AppData\\Local\\Programs\\Python\\Python312\\Lib\\site-packages\\pyogrio\\raw.py:723: RuntimeWarning: Normalized/laundered field name: 'MICROCODE_y' to 'MICROCOD_1'\n",
      "  ogr_write(\n",
      "c:\\Users\\santi\\AppData\\Local\\Programs\\Python\\Python312\\Lib\\site-packages\\pyogrio\\raw.py:723: RuntimeWarning: Creating a 256th field, but some DBF readers might only support 255 fields\n",
      "  ogr_write(\n",
      "c:\\Users\\santi\\AppData\\Local\\Programs\\Python\\Python312\\Lib\\site-packages\\pyogrio\\raw.py:723: RuntimeWarning: Normalized/laundered field name: 'Suburbano_PRD' to 'Suburbano_'\n",
      "  ogr_write(\n",
      "c:\\Users\\santi\\AppData\\Local\\Programs\\Python\\Python312\\Lib\\site-packages\\pyogrio\\raw.py:723: RuntimeWarning: Normalized/laundered field name: 'Metrobus_PRD' to 'Metrobus_P'\n",
      "  ogr_write(\n",
      "c:\\Users\\santi\\AppData\\Local\\Programs\\Python\\Python312\\Lib\\site-packages\\pyogrio\\raw.py:723: RuntimeWarning: Normalized/laundered field name: 'Tren_Liger_PRD' to 'Tren_Liger'\n",
      "  ogr_write(\n",
      "c:\\Users\\santi\\AppData\\Local\\Programs\\Python\\Python312\\Lib\\site-packages\\pyogrio\\raw.py:723: RuntimeWarning: Normalized/laundered field name: 'Trolebus_PRD' to 'Trolebus_P'\n",
      "  ogr_write(\n",
      "c:\\Users\\santi\\AppData\\Local\\Programs\\Python\\Python312\\Lib\\site-packages\\pyogrio\\raw.py:723: RuntimeWarning: Normalized/laundered field name: 'Trole_elev_PRD' to 'Trole_elev'\n",
      "  ogr_write(\n",
      "c:\\Users\\santi\\AppData\\Local\\Programs\\Python\\Python312\\Lib\\site-packages\\pyogrio\\raw.py:723: RuntimeWarning: Normalized/laundered field name: 'T_Concesio_PRD' to 'T_Concesio'\n",
      "  ogr_write(\n",
      "c:\\Users\\santi\\AppData\\Local\\Programs\\Python\\Python312\\Lib\\site-packages\\pyogrio\\raw.py:723: RuntimeWarning: Normalized/laundered field name: 'Ecobici_PRD' to 'Ecobici_PR'\n",
      "  ogr_write(\n",
      "c:\\Users\\santi\\AppData\\Local\\Programs\\Python\\Python312\\Lib\\site-packages\\pyogrio\\raw.py:723: RuntimeWarning: Normalized/laundered field name: 'Cablebus_PRD' to 'Cablebus_P'\n",
      "  ogr_write(\n",
      "c:\\Users\\santi\\AppData\\Local\\Programs\\Python\\Python312\\Lib\\site-packages\\pyogrio\\raw.py:723: RuntimeWarning: Normalized/laundered field name: 'Cobertura_PRD' to 'Cobertura_'\n",
      "  ogr_write(\n"
     ]
    }
   ],
   "source": [
    "output_shp_path = \"Manzanas_PUBLICOS_TIPOLOGIA_PARADAS_SAMPLE2.shp\"\n",
    "merged_df2.to_file(output_shp_path, driver=\"ESRI Shapefile\")"
   ]
  }
 ],
 "metadata": {
  "kernelspec": {
   "display_name": "Python 3",
   "language": "python",
   "name": "python3"
  },
  "language_info": {
   "codemirror_mode": {
    "name": "ipython",
    "version": 3
   },
   "file_extension": ".py",
   "mimetype": "text/x-python",
   "name": "python",
   "nbconvert_exporter": "python",
   "pygments_lexer": "ipython3",
   "version": "3.12.3"
  }
 },
 "nbformat": 4,
 "nbformat_minor": 2
}
